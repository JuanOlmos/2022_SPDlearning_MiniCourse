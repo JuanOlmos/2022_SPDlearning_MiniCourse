{
 "cells": [
  {
   "cell_type": "markdown",
   "id": "8beb412b",
   "metadata": {},
   "source": [
    "Suppose we have an image of $W\\times H$. That is, an image with $m = W\\cdot H$ pixels. \n",
    "\n",
    "We can use features to construct covariance descriptors. "
   ]
  },
  {
   "cell_type": "code",
   "execution_count": null,
   "id": "d803afe2",
   "metadata": {},
   "outputs": [],
   "source": []
  },
  {
   "cell_type": "code",
   "execution_count": null,
   "id": "eba5c5de",
   "metadata": {},
   "outputs": [],
   "source": []
  }
 ],
 "metadata": {
  "kernelspec": {
   "display_name": "Python 3 (ipykernel)",
   "language": "python",
   "name": "python3"
  },
  "language_info": {
   "codemirror_mode": {
    "name": "ipython",
    "version": 3
   },
   "file_extension": ".py",
   "mimetype": "text/x-python",
   "name": "python",
   "nbconvert_exporter": "python",
   "pygments_lexer": "ipython3",
   "version": "3.9.7"
  }
 },
 "nbformat": 4,
 "nbformat_minor": 5
}
